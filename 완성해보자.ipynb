{
 "cells": [
  {
   "cell_type": "code",
   "execution_count": null,
   "id": "e2f2c62b",
   "metadata": {},
   "outputs": [],
   "source": [
    "import pandas as pd\n",
    "import random\n",
    "import os\n",
    "import numpy as np\n",
    "\n",
    "import matplotlib.pyplot as plt \n",
    "import seaborn as sns\n",
    "\n",
    "from sklearn.preprocessing import LabelEncoder\n",
    "\n",
    "import lightgbm \n",
    "from lightgbm import LGBMClassifier\n",
    "\n",
    "from sklearn.model_selection import train_test_split\n",
    "from sklearn.metrics import accuracy_score, recall_score, f1_score, precision_score, roc_auc_score\n",
    "from sklearn.metrics import confusion_matrix\n",
    "from lightgbm import plot_importance\n",
    "from lightgbm import LGBMClassifier\n",
    "from xgboost import XGBClassifier\n",
    "from catboost import CatBoostClassifier"
   ]
  },
  {
   "cell_type": "code",
   "execution_count": 2,
   "id": "96bd056a",
   "metadata": {},
   "outputs": [],
   "source": [
    "def seed_everything(seed):\n",
    "    random.seed(seed)\n",
    "    os.environ['PYTHONHASHSEED'] = str(seed)\n",
    "    np.random.seed(seed)\n",
    "seed_everything(37) # Seed 고정"
   ]
  },
  {
   "cell_type": "code",
   "execution_count": 3,
   "id": "90275159",
   "metadata": {},
   "outputs": [],
   "source": [
    "# 파일 읽어오기\n",
    "train_df = pd.read_csv('./train.csv')\n",
    "test_df = pd.read_csv('./test.csv')"
   ]
  },
  {
   "cell_type": "code",
   "execution_count": 4,
   "id": "dac7fbf1",
   "metadata": {},
   "outputs": [],
   "source": [
    "# 전처리 과정\n",
    "train_x = train_df.drop(columns=['PRODUCT_ID', 'TIMESTAMP', 'Y_Class', 'Y_Quality'])\n",
    "train_y = train_df['Y_Class']\n",
    "\n",
    "test_x = test_df.drop(columns=['PRODUCT_ID' ,'TIMESTAMP'])"
   ]
  },
  {
   "cell_type": "code",
   "execution_count": 5,
   "id": "28e491ee",
   "metadata": {},
   "outputs": [],
   "source": [
    "train_x = train_x.fillna(0)\n",
    "test_x = test_x.fillna(0)"
   ]
  },
  {
   "cell_type": "code",
   "execution_count": 6,
   "id": "3ad411d0",
   "metadata": {},
   "outputs": [
    {
     "name": "stdout",
     "output_type": "stream",
     "text": [
      "Done.\n"
     ]
    }
   ],
   "source": [
    "# qualitative to quantitative\n",
    "qual_col = ['LINE', 'PRODUCT_CODE']\n",
    "\n",
    "for i in qual_col:\n",
    "    le = LabelEncoder()\n",
    "    le = le.fit(train_x[i])\n",
    "    train_x[i] = le.transform(train_x[i])\n",
    "    \n",
    "    for label in np.unique(test_x[i]): \n",
    "        if label not in le.classes_: \n",
    "            le.classes_ = np.append(le.classes_, label)\n",
    "    test_x[i] = le.transform(test_x[i]) \n",
    "print('Done.')"
   ]
  },
  {
   "cell_type": "code",
   "execution_count": null,
   "id": "905663ca",
   "metadata": {},
   "outputs": [],
   "source": []
  },
  {
   "cell_type": "code",
   "execution_count": 7,
   "id": "c7e5750d",
   "metadata": {},
   "outputs": [
    {
     "name": "stdout",
     "output_type": "stream",
     "text": [
      "SMOTE 적용 전 학습용 피처/레이블 데이터 세트:  (598, 2877) (598,)\n",
      "SMOTE 적용 후 학습용 피처/레이블 데이터 세트:  (1221, 2877) (1221,)\n",
      "SMOTE 적용 후 레이블 값 분포: \n",
      " 1    407\n",
      "2    407\n",
      "0    407\n",
      "Name: Y_Class, dtype: int64\n"
     ]
    }
   ],
   "source": [
    "# 데이터 전처리 - 오버샘프링 SMOTE , 필수적인 요소! 꼭 해야합니다. \n",
    "from imblearn.over_sampling import SMOTE\n",
    "smote = SMOTE(random_state = 777)\n",
    "\n",
    "X_train_over,y_train_over = smote.fit_resample(train_x,train_y)\n",
    "\n",
    "print('SMOTE 적용 전 학습용 피처/레이블 데이터 세트: ', train_x.shape, train_y.shape)\n",
    "print('SMOTE 적용 후 학습용 피처/레이블 데이터 세트: ', X_train_over.shape, y_train_over.shape)\n",
    "print('SMOTE 적용 후 레이블 값 분포: \\n', pd.Series(y_train_over).value_counts())"
   ]
  },
  {
   "cell_type": "code",
   "execution_count": 8,
   "id": "c40e4d22",
   "metadata": {},
   "outputs": [],
   "source": [
    "# 각 라인 별로 각자의 모델을 적용시켜 학습을 시킬 예정\n",
    "X_train_over_0 = X_train_over.loc[X_train_over.LINE == 0]\n",
    "X_train_over_1 = X_train_over.loc[X_train_over.LINE == 1]\n",
    "X_train_over_2 = X_train_over.loc[X_train_over.LINE == 2]\n",
    "X_train_over_3 = X_train_over.loc[X_train_over.LINE == 3]\n",
    "X_train_over_4 = X_train_over.loc[X_train_over.LINE == 4]\n",
    "X_train_over_5 = X_train_over.loc[X_train_over.LINE == 5]"
   ]
  },
  {
   "cell_type": "code",
   "execution_count": 9,
   "id": "391b6bbe",
   "metadata": {},
   "outputs": [],
   "source": [
    "# 각 라인 별로 각자의 모델을 적용시켜 학습을 시킬 예정\n",
    "y_train_over_0 = y_train_over.loc[X_train_over.LINE == 0]\n",
    "y_train_over_1 = y_train_over.loc[X_train_over.LINE == 1]\n",
    "y_train_over_2 = y_train_over.loc[X_train_over.LINE == 2]\n",
    "y_train_over_3 = y_train_over.loc[X_train_over.LINE == 3]\n",
    "y_train_over_4 = y_train_over.loc[X_train_over.LINE == 4]\n",
    "y_train_over_5 = y_train_over.loc[X_train_over.LINE == 5]"
   ]
  },
  {
   "cell_type": "code",
   "execution_count": 10,
   "id": "9164801e",
   "metadata": {},
   "outputs": [],
   "source": [
    "# 각 라인 별로 각자의 모델을 적용시켜 학습을 시킬 예정\n",
    "test_x_0 = test_x.loc[test_x.LINE == 0] \n",
    "test_x_1 = test_x.loc[test_x.LINE == 1]\n",
    "test_x_2 = test_x.loc[test_x.LINE == 2]\n",
    "test_x_3 = test_x.loc[test_x.LINE == 3]\n",
    "test_x_4 = test_x.loc[test_x.LINE == 4]\n",
    "test_x_5 = test_x.loc[test_x.LINE == 5]\n",
    "\n",
    "# 나중에 오름차순 정리를 위해서 필요\n",
    "#sliced_df_with_index0 = test_x_0.reset_index()\n",
    "#sliced_df_with_index0"
   ]
  },
  {
   "cell_type": "code",
   "execution_count": 11,
   "id": "a846d5f9",
   "metadata": {},
   "outputs": [],
   "source": [
    "x0_train, x0_valid, y0_train, y0_valid = train_test_split(X_train_over_0, y_train_over_0, test_size=0.3, shuffle=True, random_state=777)\n",
    "y0_true = y0_valid.values"
   ]
  },
  {
   "cell_type": "code",
   "execution_count": 12,
   "id": "24a3fb19",
   "metadata": {
    "scrolled": true
   },
   "outputs": [
    {
     "name": "stdout",
     "output_type": "stream",
     "text": [
      "결측치가 존재하지 않습니다\n"
     ]
    }
   ],
   "source": [
    "# 결측치 확인 \n",
    "def check_missing_col(dataframe):\n",
    "    missing_col = []  \n",
    "    counted_missing_col = 0\n",
    "    for i, col in enumerate(dataframe.columns):\n",
    "        missing_values = sum(dataframe[col].isna())\n",
    "        is_missing = True if missing_values >= 1 else False\n",
    "        if is_missing:\n",
    "            counted_missing_col += 1\n",
    "            print(f'결측치가 있는 컬럼은: {col}입니다')\n",
    "            print(f'해당 컬럼에 총 {missing_values}개의 결측치가 존재합니다.')\n",
    "            missing_col.append([col, dataframe[col].dtype])\n",
    "    if counted_missing_col == 0:\n",
    "        print('결측치가 존재하지 않습니다')\n",
    "    return missing_col\n",
    "\n",
    "missing_col_x_train = check_missing_col(X_train_over)"
   ]
  },
  {
   "cell_type": "code",
   "execution_count": 13,
   "id": "c39b4587",
   "metadata": {},
   "outputs": [],
   "source": [
    "from sklearn.ensemble import RandomForestClassifier\n",
    "from sklearn.ensemble import GradientBoostingClassifier\n",
    "from sklearn.ensemble import ExtraTreesClassifier\n",
    "\n",
    "from sklearn.model_selection import GridSearchCV"
   ]
  },
  {
   "cell_type": "code",
   "execution_count": 14,
   "id": "455415cb",
   "metadata": {},
   "outputs": [],
   "source": [
    "#모델들을 할당할 리스트를 만들어줍니다.\n",
    "clfs = []"
   ]
  },
  {
   "cell_type": "code",
   "execution_count": 15,
   "id": "179333c1",
   "metadata": {},
   "outputs": [],
   "source": [
    "#estimators 리스트에 모델들을 추가해줍니다.\n",
    "rf = RandomForestClassifier()\n",
    "clfs.append(rf)\n",
    "\n",
    "gbc = GradientBoostingClassifier()\n",
    "clfs.append(gbc)\n",
    "\n",
    "etc = ExtraTreesClassifier()\n",
    "clfs.append(etc)\n",
    "\n",
    "xgb = XGBClassifier()\n",
    "clfs.append(xgb)\n",
    "\n",
    "gbm = GradientBoostingClassifier()\n",
    "clfs.append(gbm)\n",
    "\n",
    "lgb = LGBMClassifier()\n",
    "clfs.append(lgb)\n",
    "\n",
    "cat = CatBoostClassifier()\n",
    "clfs.append(cat)"
   ]
  },
  {
   "cell_type": "code",
   "execution_count": 16,
   "id": "d2d84b45",
   "metadata": {},
   "outputs": [],
   "source": [
    "#모들의 파라미터들을 할당할 리스트를 만들어줍니다.\n",
    "params = []\n",
    "\n",
    "# params 리스트에 성능을 비교하고자하는 파라미터들 추가해줍니다.\n",
    "#params_rf = {'n_estimators' : [90, 100, 110, 120],\n",
    "            #'min_samples_split' : [2,3,4]}\n",
    "#params.append(params_rf)\n",
    "\n",
    "#params_etc = {'n_estimators' : [50,60,70,80,90,100,110,120,130,140,150]}\n",
    "#params.append(params_etc)\n",
    "\n",
    "#XGB\n",
    "param_xgb = {\"max_depth\": [10,30,50],\n",
    "              \"min_child_weight\" : [1,3,6,10],\n",
    "              \"n_estimators\": [200,300,500,1000]\n",
    "              }    \n",
    "\n",
    "# LGB                        \n",
    "param_lgb = {\"learning_rate\" : [0.01,0.1,0.2,0.3,0.4,0.5],\n",
    "             \"max_depth\" : [25, 50, 75],\n",
    "             \"num_leaves\" : [100,300,500,900,1200],\n",
    "             \"n_estimators\" : [100, 200, 300,500,800,1000],\n",
    "             \"learning_rate\" : [0.01,0.1,0.2,0.3,0.4,0.5]\n",
    "              }\n",
    "# GBM              \n",
    "param_gbm = {\"max_depth\" : [4,5,6,7,8,9,10],\n",
    "             \"learning_rate\" : [0.01,0.1,0.2,0.3,0.4,0.5],\n",
    "             \"n_estimators\" : [100,200,300,500]\n",
    "              }\n",
    "# CAT\n",
    "param_cat = {\"depth\" : [6,4,5,7,8,9,10],\n",
    "          \"iterations\" : [250,100,500,1000],\n",
    "          \"learning_rate\" : [0.001,0.01,0.1,0.2,0.3], \n",
    "          \"l2_leaf_reg\" : [2,5,10,20,30],\n",
    "          \"border_count\" : [254]\n",
    "          }\n"
   ]
  },
  {
   "cell_type": "code",
   "execution_count": null,
   "id": "ad127d25",
   "metadata": {},
   "outputs": [
    {
     "name": "stdout",
     "output_type": "stream",
     "text": [
      "Fitting 10 folds for each of 48 candidates, totalling 480 fits\n"
     ]
    }
   ],
   "source": [
    "gscv_xgb = GridSearchCV (estimator = xgb, param_grid = param_xgb, scoring ='accuracy', cv = 10, refit=True, n_jobs=-1, verbose=2)\n",
    "gscv_lgb = GridSearchCV (estimator = lgb, param_grid = param_lgb, scoring ='accuracy', cv = 10, refit=True, n_jobs=-1, verbose=2)\n",
    "gscv_gbm = GridSearchCV (estimator = gbm, param_grid = param_gbm, scoring ='accuracy', cv = 10, refit=True, n_jobs=-1, verbose=2)\n",
    "gscv_cat = GridSearchCV (estimator = cat, param_grid = param_cat, scoring ='accuracy', cv = 10, refit=True, n_jobs=-1, verbose=2)\n",
    "\n",
    "gscv_xgb.fit(X_train_over, y_train_over)\n",
    "gscv_lgb.fit(X_train_over, y_train_over)\n",
    "gscv_gbm.fit(X_train_over, y_train_over)\n",
    "gscv_cat.fit(X_train_over, y_train_over)\n"
   ]
  },
  {
   "cell_type": "code",
   "execution_count": null,
   "id": "f96a90de",
   "metadata": {},
   "outputs": [],
   "source": [
    "#GridSearchCV 를 이용해 모델들을 최적화시켜줍니다.\n",
    "from tqdm.auto import tqdm\n",
    "def gridSearchCV(models,params):\n",
    "    best_models=[]\n",
    "    for i in tqdm(range(0,len(models))):\n",
    "        model_grid = GridSearchCV(models[i], params[i], n_jobs = 10,verbose=1, cv=5)\n",
    "        model_grid.fit(X_train_over,y_train_over)\n",
    "        best_models.append(model_grid.best_estimator_)\n",
    "    return best_models\n",
    "\n",
    "best_model_list = gridSearchCV(clfs,params)"
   ]
  },
  {
   "cell_type": "code",
   "execution_count": null,
   "id": "fad26c8c",
   "metadata": {},
   "outputs": [],
   "source": [
    "#GridSerachCV 를 통해 최적화된 모델들을 확인합니다.\n",
    "best_model_list"
   ]
  },
  {
   "cell_type": "code",
   "execution_count": null,
   "id": "a0eb520d",
   "metadata": {},
   "outputs": [],
   "source": [
    "print(\"=\"*30)\n",
    "print('XGB 파라미터: ', gscv_xgb.best_params_)\n",
    "print('XGB 예측 정확도: {:.4f}'.format(gscv_xgb.best_score_))\n",
    "print(\"=\"*30)\n",
    "print('LGB 파라미터: ', gscv_lgb.best_params_)\n",
    "print('LGB 예측 정확도: {:.4f}'.format(gscv_lgb.best_score_))\n",
    "print(\"=\"*30)\n",
    "print('GBM 파라미터: ', gscv_gbm.best_params_)\n",
    "print('GBM 예측 정확도: {:.4f}'.format(gscv_gbm.best_score_))\n",
    "print(\"=\"*30)\n",
    "print('CAT 파라미터: ', gscv_cat.best_params_)\n",
    "print('CAT 예측 정확도: {:.4f}'.format(gscv_cat.best_score_))\n",
    "print(\"=\"*30)\n",
    "print('Lreg 파라미터: ', gscv_lreg.best_params_)\n",
    "print('Lreg 예측 정확도: {:.4f}'.format(gscv_lreg.best_score_))\n",
    "print(\"=\"*30)"
   ]
  },
  {
   "cell_type": "code",
   "execution_count": null,
   "id": "68e4cd7b",
   "metadata": {},
   "outputs": [],
   "source": [
    "#GridSearchCV 를 통해 최적화된 모델들을 사용합니다.\n",
    "best_models = [\n",
    "    ('rf', RandomForestClassifier(min_samples_split=3, n_estimators=90)),\n",
    "    ('GBR',GradientBoostingClassifier(learning_rate=0.06, n_estimators=60)),\n",
    "    ('ET', ExtraTreesClassifier(n_estimators=140))\n",
    "]\n",
    "\n",
    "#앙상블 기법을 위한 패키지를 불러옵니다.\n",
    "from sklearn.ensemble import VotingClassifier\n",
    "\n",
    "#앙상블 모델을 학습시켜줍니다.\n",
    "voting_clf = VotingClassifier(estimators=best_models,voting='hard')\n",
    "voting_clf.fit(train_x,train_y)"
   ]
  },
  {
   "cell_type": "code",
   "execution_count": null,
   "id": "f1e91d65",
   "metadata": {},
   "outputs": [],
   "source": [
    "predictions = voting_clf.predict(test_x)"
   ]
  },
  {
   "cell_type": "code",
   "execution_count": null,
   "id": "44c97573",
   "metadata": {},
   "outputs": [],
   "source": [
    "submit = pd.read_csv('./sample_submission0.csv')"
   ]
  },
  {
   "cell_type": "code",
   "execution_count": null,
   "id": "79c59575",
   "metadata": {},
   "outputs": [],
   "source": [
    "submit['Y_Class'] = predictions\n",
    "submit.to_csv(\"submission.csv\",index = False)"
   ]
  },
  {
   "cell_type": "code",
   "execution_count": null,
   "id": "7582915b",
   "metadata": {},
   "outputs": [],
   "source": []
  }
 ],
 "metadata": {
  "kernelspec": {
   "display_name": "Python 3 (ipykernel)",
   "language": "python",
   "name": "python3"
  },
  "language_info": {
   "codemirror_mode": {
    "name": "ipython",
    "version": 3
   },
   "file_extension": ".py",
   "mimetype": "text/x-python",
   "name": "python",
   "nbconvert_exporter": "python",
   "pygments_lexer": "ipython3",
   "version": "3.9.13"
  }
 },
 "nbformat": 4,
 "nbformat_minor": 5
}
